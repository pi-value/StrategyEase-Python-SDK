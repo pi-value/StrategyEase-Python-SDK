{
 "cells": [
  {
   "cell_type": "code",
   "execution_count": null,
   "metadata": {},
   "outputs": [],
   "source": [
    "import os\n",
    "\n",
    "from six.moves import reload_module\n",
    "from six.moves import urllib\n",
    "\n",
    "# 在线量化平台名称，可选：joinquant、ricequant、uqer\n",
    "QUANT_NAME = 'joinquant'\n",
    "# 版本，默认 master 即为最新版\n",
    "VERSION = 'gitee'\n",
    "# 更新安装文件？\n",
    "UPDATE_INSTALLER = True\n",
    "\n",
    "REPO_URL = 'https://gitee.com/xflowy/StrategyEase-Python-SDK/raw'\n",
    "INSTALLER_URL = '{}/{}/scripts/strategyease_sdk_installer.py'.format(REPO_URL, VERSION)\n",
    "INSTALLER_FILENAME = 'strategyease_sdk_installer.py'\n",
    "\n",
    "if not os.path.isfile(INSTALLER_FILENAME) or UPDATE_INSTALLER:\n",
    "    urllib.request.urlretrieve(INSTALLER_URL, INSTALLER_FILENAME)\n",
    "\n",
    "import strategyease_sdk_installer\n",
    "\n",
    "reload_module(strategyease_sdk_installer)\n",
    "\n",
    "strategyease_sdk_installer.main([\n",
    "    '--quant=' + QUANT_NAME,\n",
    "    '--version=' + VERSION\n",
    "])"
   ]
  }
 ],
 "metadata": {
  "language_info": {}
 },
 "nbformat": 4,
 "nbformat_minor": 0
}